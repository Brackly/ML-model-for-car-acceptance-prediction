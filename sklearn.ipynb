    {
      "cell_type": "code",
      "source": [
        "import numpy as np\n",
        "import pandas as pd\n",
        "from sklearn import neighbors,metrics\n",
        "from sklearn.model_selection import train_test_split\n",
        "from sklearn.preprocessing import LabelEncoder \n",
        "\n",
        "car= pd.read_csv('car.data')\n",
        "\n",
        "X= car[['buying','maint','safety']].values\n",
        "y=car[['class']]\n",
        "\n",
        "Le = LabelEncoder()\n",
        "\n",
        "\n",
        "for i in range(len(X[0])):\n",
        "  X[:,i] = Le.fit_transform(X[:,i])\n",
        "\n",
        "label_mapping={\n",
        "    'unacc':0,\n",
        "    'acc':1,\n",
        "    'good':2,\n",
        "    'vgood':3\n",
        "}\n",
        "\n",
        "y['class']= y['class'].map(label_mapping)\n",
        "\n",
        "y=np.array(y)\n",
        "\n",
        "knn=neighbors.KNeighborsClassifier(n_neighbors=25,weights='uniform')\n",
        "\n",
        "X_train,X_test,y_train,y_test = train_test_split(X,y, test_size=0.2)\n",
        "\n",
        "knn.fit(X_train,y_train)\n",
        "\n",
        "predictions=knn.predict(X_test)\n",
        "\n",
        "accuracy=metrics.accuracy_score(y_test,predictions)\n",
        "\n",
        "print('actual:',y[20])\n"
      ],
      "metadata": {
        "colab": {
          "base_uri": "https://localhost:8080/"
        },
        "id": "aWcl8VGtEUbQ",
        "outputId": "ca248f09-e430-43f2-a245-b1a643681272"
      },
      "execution_count": 76,
      "outputs": [
        {
          "output_type": "stream",
          "name": "stdout",
          "text": [
            "actual: [0]\n"
          ]
        },
        {
          "output_type": "stream",
          "name": "stderr",
          "text": [
            "/usr/local/lib/python3.7/dist-packages/ipykernel_launcher.py:25: SettingWithCopyWarning: \n",
            "A value is trying to be set on a copy of a slice from a DataFrame.\n",
            "Try using .loc[row_indexer,col_indexer] = value instead\n",
            "\n",
            "See the caveats in the documentation: https://pandas.pydata.org/pandas-docs/stable/user_guide/indexing.html#returning-a-view-versus-a-copy\n",
            "/usr/local/lib/python3.7/dist-packages/sklearn/neighbors/_classification.py:198: DataConversionWarning: A column-vector y was passed when a 1d array was expected. Please change the shape of y to (n_samples,), for example using ravel().\n",
            "  return self._fit(X, y)\n"
          ]
        }
      ]
    },
    {
      "cell_type": "code",
      "source": [
        "import numpy as np\n",
        "import pandas as pd\n",
        "from sklearn.model_selection import train_test_split\n",
        "from sklearn import metrics, neighbors\n",
        "from sklearn.preprocessing import LabelEncoder\n",
        "\n",
        "data=pd.read_csv('car.data')\n",
        "\n",
        "X=data[['buying','maint','safety']].values\n",
        "y=data[['class']]\n",
        "\n",
        "Le=LabelEncoder()\n",
        "for i in range(len(X[0])):\n",
        "  X[:,i]=Le.fit_transform(X[:,i])\n",
        "\n",
        "o={\n",
        "    'unacc':0,\n",
        "    'acc':1,\n",
        "    'good':2,\n",
        "    'vgood':3\n",
        "}\n",
        "\n",
        "y['class']=y['class'].map(o)\n",
        "\n",
        "y=np.array(y)\n",
        "\n",
        "X_train,X_test,y_train,y_test= train_test_split(X,y,test_size=0.2)\n",
        "\n",
        "knn=neighbors.KNeighborsClassifier(n_neighbors=25,weights='uniform')\n",
        "\n",
        "model=knn.fit(X_train,y_train)\n",
        "prediction=knn.predict(X_test)\n",
        "accuracy=metrics.accuracy_score(y_test,prediction)\n",
        "\n",
        "a=100\n",
        "print('actual:',y[2])\n",
        "print('predicted:',knn.predict(X)[20])"
      ],
      "metadata": {
        "colab": {
          "base_uri": "https://localhost:8080/"
        },
        "id": "wqW8ouqzeMCg",
        "outputId": "82d695f4-58a8-4b23-a424-52da0ae7c7eb"
      },
      "execution_count": 79,
      "outputs": [
        {
          "output_type": "stream",
          "name": "stdout",
          "text": [
            "actual: [0]\n",
            "predicted: 0\n"
          ]
        },
        {
          "output_type": "stream",
          "name": "stderr",
          "text": [
            "/usr/local/lib/python3.7/dist-packages/ipykernel_launcher.py:23: SettingWithCopyWarning: \n",
            "A value is trying to be set on a copy of a slice from a DataFrame.\n",
            "Try using .loc[row_indexer,col_indexer] = value instead\n",
            "\n",
            "See the caveats in the documentation: https://pandas.pydata.org/pandas-docs/stable/user_guide/indexing.html#returning-a-view-versus-a-copy\n",
            "/usr/local/lib/python3.7/dist-packages/sklearn/neighbors/_classification.py:198: DataConversionWarning: A column-vector y was passed when a 1d array was expected. Please change the shape of y to (n_samples,), for example using ravel().\n",
            "  return self._fit(X, y)\n"
          ]
        }
      ]
    }
  ]
}
